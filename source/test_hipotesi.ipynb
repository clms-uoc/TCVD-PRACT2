{
 "cells": [
  {
   "cell_type": "markdown",
   "id": "4f39012e",
   "metadata": {},
   "source": [
    "# Test d'hipòtesi"
   ]
  },
  {
   "cell_type": "markdown",
   "id": "84a88b8f",
   "metadata": {},
   "source": [
    "El nostre test d'hipòtesi vol respondre a la següent pregunta: Les companyies més grans (major 'Company Size') ofereixen sous més grans (max_Salary)?"
   ]
  },
  {
   "cell_type": "markdown",
   "id": "3f516ed4",
   "metadata": {},
   "source": [
    "Primer de tot hem de definir que és una companyia gran, així que segons les nostres dades tenim la següent distribució:"
   ]
  },
  {
   "cell_type": "code",
   "execution_count": 86,
   "id": "dcb83ec9",
   "metadata": {},
   "outputs": [],
   "source": [
    "import pandas as pd\n",
    "import numpy as np"
   ]
  },
  {
   "cell_type": "code",
   "execution_count": 87,
   "id": "2c2a1300",
   "metadata": {},
   "outputs": [
    {
     "data": {
      "text/html": [
       "<div>\n",
       "<style scoped>\n",
       "    .dataframe tbody tr th:only-of-type {\n",
       "        vertical-align: middle;\n",
       "    }\n",
       "\n",
       "    .dataframe tbody tr th {\n",
       "        vertical-align: top;\n",
       "    }\n",
       "\n",
       "    .dataframe thead th {\n",
       "        text-align: right;\n",
       "    }\n",
       "</style>\n",
       "<table border=\"1\" class=\"dataframe\">\n",
       "  <thead>\n",
       "    <tr style=\"text-align: right;\">\n",
       "      <th></th>\n",
       "      <th>Qualifications</th>\n",
       "      <th>location</th>\n",
       "      <th>Country</th>\n",
       "      <th>latitude</th>\n",
       "      <th>longitude</th>\n",
       "      <th>Work Type</th>\n",
       "      <th>Company Size</th>\n",
       "      <th>Job Posting Date</th>\n",
       "      <th>Preference</th>\n",
       "      <th>Contact Person</th>\n",
       "      <th>...</th>\n",
       "      <th>Job Description</th>\n",
       "      <th>Benefits</th>\n",
       "      <th>skills</th>\n",
       "      <th>Responsibilities</th>\n",
       "      <th>Company</th>\n",
       "      <th>Company Profile</th>\n",
       "      <th>min_Experience</th>\n",
       "      <th>max_Experience</th>\n",
       "      <th>min_Salary</th>\n",
       "      <th>max_Salary</th>\n",
       "    </tr>\n",
       "  </thead>\n",
       "  <tbody>\n",
       "    <tr>\n",
       "      <th>0</th>\n",
       "      <td>M.Tech</td>\n",
       "      <td>Douglas</td>\n",
       "      <td>Isle of Man</td>\n",
       "      <td>54.2361</td>\n",
       "      <td>-4.5481</td>\n",
       "      <td>Intern</td>\n",
       "      <td>26801</td>\n",
       "      <td>2022-04-24</td>\n",
       "      <td>Female</td>\n",
       "      <td>Brandon Cunningham</td>\n",
       "      <td>...</td>\n",
       "      <td>Social Media Managers oversee an organizations...</td>\n",
       "      <td>{'Flexible Spending Accounts (FSAs), Relocatio...</td>\n",
       "      <td>Social media platforms (e.g., Facebook, Twitte...</td>\n",
       "      <td>Manage and grow social media accounts, create ...</td>\n",
       "      <td>Icahn Enterprises</td>\n",
       "      <td>{\"Sector\":\"Diversified\",\"Industry\":\"Diversifie...</td>\n",
       "      <td>5</td>\n",
       "      <td>15</td>\n",
       "      <td>59000</td>\n",
       "      <td>99000</td>\n",
       "    </tr>\n",
       "    <tr>\n",
       "      <th>1</th>\n",
       "      <td>BCA</td>\n",
       "      <td>Ashgabat</td>\n",
       "      <td>Turkmenistan</td>\n",
       "      <td>38.9697</td>\n",
       "      <td>59.5563</td>\n",
       "      <td>Intern</td>\n",
       "      <td>100340</td>\n",
       "      <td>2022-12-19</td>\n",
       "      <td>Female</td>\n",
       "      <td>Francisco Larsen</td>\n",
       "      <td>...</td>\n",
       "      <td>Frontend Web Developers design and implement u...</td>\n",
       "      <td>{'Health Insurance, Retirement Plans, Paid Tim...</td>\n",
       "      <td>HTML, CSS, JavaScript Frontend frameworks (e.g...</td>\n",
       "      <td>Design and code user interfaces for websites, ...</td>\n",
       "      <td>PNC Financial Services Group</td>\n",
       "      <td>{\"Sector\":\"Financial Services\",\"Industry\":\"Com...</td>\n",
       "      <td>2</td>\n",
       "      <td>12</td>\n",
       "      <td>56000</td>\n",
       "      <td>116000</td>\n",
       "    </tr>\n",
       "    <tr>\n",
       "      <th>2</th>\n",
       "      <td>PhD</td>\n",
       "      <td>Macao</td>\n",
       "      <td>Macao SAR, China</td>\n",
       "      <td>22.1987</td>\n",
       "      <td>113.5439</td>\n",
       "      <td>Temporary</td>\n",
       "      <td>84525</td>\n",
       "      <td>2022-09-14</td>\n",
       "      <td>Male</td>\n",
       "      <td>Gary Gibson</td>\n",
       "      <td>...</td>\n",
       "      <td>Quality Control Managers establish and enforce...</td>\n",
       "      <td>{'Legal Assistance, Bonuses and Incentive Prog...</td>\n",
       "      <td>Quality control processes and methodologies St...</td>\n",
       "      <td>Establish and enforce quality control standard...</td>\n",
       "      <td>United Services Automobile Assn.</td>\n",
       "      <td>{\"Sector\":\"Insurance\",\"Industry\":\"Insurance: P...</td>\n",
       "      <td>0</td>\n",
       "      <td>12</td>\n",
       "      <td>61000</td>\n",
       "      <td>104000</td>\n",
       "    </tr>\n",
       "    <tr>\n",
       "      <th>3</th>\n",
       "      <td>PhD</td>\n",
       "      <td>Porto-Novo</td>\n",
       "      <td>Benin</td>\n",
       "      <td>9.3077</td>\n",
       "      <td>2.3158</td>\n",
       "      <td>Full-Time</td>\n",
       "      <td>129896</td>\n",
       "      <td>2023-02-25</td>\n",
       "      <td>Female</td>\n",
       "      <td>Joy Lucero</td>\n",
       "      <td>...</td>\n",
       "      <td>Wireless Network Engineers design, implement, ...</td>\n",
       "      <td>{'Transportation Benefits, Professional Develo...</td>\n",
       "      <td>Wireless network design and architecture Wi-Fi...</td>\n",
       "      <td>Design, configure, and optimize wireless netwo...</td>\n",
       "      <td>Hess</td>\n",
       "      <td>{\"Sector\":\"Energy\",\"Industry\":\"Mining, Crude-O...</td>\n",
       "      <td>4</td>\n",
       "      <td>11</td>\n",
       "      <td>65000</td>\n",
       "      <td>91000</td>\n",
       "    </tr>\n",
       "    <tr>\n",
       "      <th>4</th>\n",
       "      <td>MBA</td>\n",
       "      <td>Santiago</td>\n",
       "      <td>Chile</td>\n",
       "      <td>-35.6751</td>\n",
       "      <td>-71.5429</td>\n",
       "      <td>Intern</td>\n",
       "      <td>53944</td>\n",
       "      <td>2022-10-11</td>\n",
       "      <td>Female</td>\n",
       "      <td>Julie Johnson</td>\n",
       "      <td>...</td>\n",
       "      <td>A Conference Manager coordinates and manages c...</td>\n",
       "      <td>{'Flexible Spending Accounts (FSAs), Relocatio...</td>\n",
       "      <td>Event planning Conference logistics Budget man...</td>\n",
       "      <td>Specialize in conference and convention planni...</td>\n",
       "      <td>Cairn Energy</td>\n",
       "      <td>{\"Sector\":\"Energy\",\"Industry\":\"Energy - Oil &amp; ...</td>\n",
       "      <td>1</td>\n",
       "      <td>12</td>\n",
       "      <td>64000</td>\n",
       "      <td>87000</td>\n",
       "    </tr>\n",
       "  </tbody>\n",
       "</table>\n",
       "<p>5 rows × 24 columns</p>\n",
       "</div>"
      ],
      "text/plain": [
       "  Qualifications    location           Country  latitude  longitude  \\\n",
       "0         M.Tech     Douglas       Isle of Man   54.2361    -4.5481   \n",
       "1            BCA    Ashgabat      Turkmenistan   38.9697    59.5563   \n",
       "2            PhD       Macao  Macao SAR, China   22.1987   113.5439   \n",
       "3            PhD  Porto-Novo             Benin    9.3077     2.3158   \n",
       "4            MBA    Santiago             Chile  -35.6751   -71.5429   \n",
       "\n",
       "   Work Type  Company Size Job Posting Date Preference      Contact Person  \\\n",
       "0     Intern         26801       2022-04-24     Female  Brandon Cunningham   \n",
       "1     Intern        100340       2022-12-19     Female    Francisco Larsen   \n",
       "2  Temporary         84525       2022-09-14       Male         Gary Gibson   \n",
       "3  Full-Time        129896       2023-02-25     Female          Joy Lucero   \n",
       "4     Intern         53944       2022-10-11     Female       Julie Johnson   \n",
       "\n",
       "   ...                                    Job Description  \\\n",
       "0  ...  Social Media Managers oversee an organizations...   \n",
       "1  ...  Frontend Web Developers design and implement u...   \n",
       "2  ...  Quality Control Managers establish and enforce...   \n",
       "3  ...  Wireless Network Engineers design, implement, ...   \n",
       "4  ...  A Conference Manager coordinates and manages c...   \n",
       "\n",
       "                                            Benefits  \\\n",
       "0  {'Flexible Spending Accounts (FSAs), Relocatio...   \n",
       "1  {'Health Insurance, Retirement Plans, Paid Tim...   \n",
       "2  {'Legal Assistance, Bonuses and Incentive Prog...   \n",
       "3  {'Transportation Benefits, Professional Develo...   \n",
       "4  {'Flexible Spending Accounts (FSAs), Relocatio...   \n",
       "\n",
       "                                              skills  \\\n",
       "0  Social media platforms (e.g., Facebook, Twitte...   \n",
       "1  HTML, CSS, JavaScript Frontend frameworks (e.g...   \n",
       "2  Quality control processes and methodologies St...   \n",
       "3  Wireless network design and architecture Wi-Fi...   \n",
       "4  Event planning Conference logistics Budget man...   \n",
       "\n",
       "                                    Responsibilities  \\\n",
       "0  Manage and grow social media accounts, create ...   \n",
       "1  Design and code user interfaces for websites, ...   \n",
       "2  Establish and enforce quality control standard...   \n",
       "3  Design, configure, and optimize wireless netwo...   \n",
       "4  Specialize in conference and convention planni...   \n",
       "\n",
       "                            Company  \\\n",
       "0                 Icahn Enterprises   \n",
       "1      PNC Financial Services Group   \n",
       "2  United Services Automobile Assn.   \n",
       "3                              Hess   \n",
       "4                      Cairn Energy   \n",
       "\n",
       "                                     Company Profile min_Experience  \\\n",
       "0  {\"Sector\":\"Diversified\",\"Industry\":\"Diversifie...              5   \n",
       "1  {\"Sector\":\"Financial Services\",\"Industry\":\"Com...              2   \n",
       "2  {\"Sector\":\"Insurance\",\"Industry\":\"Insurance: P...              0   \n",
       "3  {\"Sector\":\"Energy\",\"Industry\":\"Mining, Crude-O...              4   \n",
       "4  {\"Sector\":\"Energy\",\"Industry\":\"Energy - Oil & ...              1   \n",
       "\n",
       "  max_Experience min_Salary max_Salary  \n",
       "0             15      59000      99000  \n",
       "1             12      56000     116000  \n",
       "2             12      61000     104000  \n",
       "3             11      65000      91000  \n",
       "4             12      64000      87000  \n",
       "\n",
       "[5 rows x 24 columns]"
      ]
     },
     "execution_count": 87,
     "metadata": {},
     "output_type": "execute_result"
    }
   ],
   "source": [
    "df = pd.read_csv(\"job_offers_clean.csv\")\n",
    "df.head()"
   ]
  },
  {
   "cell_type": "markdown",
   "id": "571a7e2a",
   "metadata": {},
   "source": [
    "Abans de començar amb l'anàlisi i preparació, eliminarem les files on Work Type sigui Part-Time, ja que les ofertes a mitja jornada tendran sous significativament més baixos i poden afectar a la normalitat de les dades. També ens centrarem en una posició concreta, la de Software Engineer, ja que com tenim vàries posicions de feina diferent, el rang salarial també pot variar molt entre diferents llocs de feina. Així que ens centrarem en ofertes a jornada completa (no tendrem en compte si es contracte temporal o indefinit) i que siguin de Software Engineer."
   ]
  },
  {
   "cell_type": "code",
   "execution_count": 88,
   "id": "9c9dff1e",
   "metadata": {},
   "outputs": [
    {
     "data": {
      "text/plain": [
       "23         Software Engineer\n",
       "302        Software Engineer\n",
       "332        Software Engineer\n",
       "499        Software Engineer\n",
       "506        Software Engineer\n",
       "                 ...        \n",
       "1610249    Software Engineer\n",
       "1610253    Software Engineer\n",
       "1610286    Software Engineer\n",
       "1610404    Software Engineer\n",
       "1610437    Software Engineer\n",
       "Name: Job Title, Length: 22000, dtype: object"
      ]
     },
     "execution_count": 88,
     "metadata": {},
     "output_type": "execute_result"
    }
   ],
   "source": [
    "# Filtram el dataset per excloure les ofertes a mitja jornada\n",
    "df_filtered = df[df['Work Type'] != 'Part-Time'].copy()\n",
    "df_filtered = df_filtered[df_filtered['Job Title'] == 'Software Engineer'].copy()\n",
    "df_filtered['Job Title']"
   ]
  },
  {
   "cell_type": "code",
   "execution_count": 89,
   "id": "475c10fd",
   "metadata": {},
   "outputs": [
    {
     "data": {
      "text/plain": [
       "count     22000.000000\n",
       "mean      73822.805909\n",
       "std       35172.443982\n",
       "min       12647.000000\n",
       "25%       43301.250000\n",
       "50%       73937.500000\n",
       "75%      104146.000000\n",
       "max      134830.000000\n",
       "Name: Company Size, dtype: float64"
      ]
     },
     "execution_count": 89,
     "metadata": {},
     "output_type": "execute_result"
    }
   ],
   "source": [
    "df_filtered[\"Company Size\"].describe()"
   ]
  },
  {
   "cell_type": "markdown",
   "id": "1a2c29ce",
   "metadata": {},
   "source": [
    "Al nostre dataset tot són empreses 'grans', totes tenen com a mínim 12646 treballadors, la qual és una xifra considerable i podrien ser tot empreses multinacionals. El que farem per al nostre cas, és definir com empresa gran tota la que estigui al darrer quartil del nostre dataset, és a dir, que tingui més de 104299 treballadors. Ara que hem definit el llindar d'empresa gran, anem a formular les hipòtesi del test."
   ]
  },
  {
   "cell_type": "markdown",
   "id": "426cc1f2",
   "metadata": {},
   "source": [
    "* Hipòtesi nul·la ($\\mathbf{H_0}$) = No hi ha diferència significativa en el salari màxim mitjà (max_Salary) entre companyies grans (darrer quartil a Company Size) i companyies més petites amb un nivell de significació ($\\alpha$) de 0.05.\n",
    "* Hipòtesi alternativa ($\\mathbf{H_1}$) = Les companyies més grans ofereixen un max_Salary major a les petites."
   ]
  },
  {
   "cell_type": "markdown",
   "id": "8052df35",
   "metadata": {},
   "source": [
    "Com que estem comparant les mitjanes d'una variable numèrica (max_Salary) entre dos grups independents (empreses del darrer quartil vs. la resta), el test estadístic més adequat és el Test t de Student per a mostres independents. Anem a fer el codi per definir el llindar d'empresa gran i empresa petita."
   ]
  },
  {
   "cell_type": "code",
   "execution_count": 90,
   "id": "6aff5341",
   "metadata": {},
   "outputs": [
    {
     "data": {
      "text/html": [
       "<div>\n",
       "<style scoped>\n",
       "    .dataframe tbody tr th:only-of-type {\n",
       "        vertical-align: middle;\n",
       "    }\n",
       "\n",
       "    .dataframe tbody tr th {\n",
       "        vertical-align: top;\n",
       "    }\n",
       "\n",
       "    .dataframe thead th {\n",
       "        text-align: right;\n",
       "    }\n",
       "</style>\n",
       "<table border=\"1\" class=\"dataframe\">\n",
       "  <thead>\n",
       "    <tr style=\"text-align: right;\">\n",
       "      <th></th>\n",
       "      <th>Company Size</th>\n",
       "      <th>max_Salary</th>\n",
       "      <th>company_size_group</th>\n",
       "    </tr>\n",
       "  </thead>\n",
       "  <tbody>\n",
       "    <tr>\n",
       "      <th>23</th>\n",
       "      <td>127385</td>\n",
       "      <td>124000</td>\n",
       "      <td>Gran</td>\n",
       "    </tr>\n",
       "    <tr>\n",
       "      <th>302</th>\n",
       "      <td>74181</td>\n",
       "      <td>110000</td>\n",
       "      <td>Petita</td>\n",
       "    </tr>\n",
       "    <tr>\n",
       "      <th>332</th>\n",
       "      <td>105598</td>\n",
       "      <td>121000</td>\n",
       "      <td>Gran</td>\n",
       "    </tr>\n",
       "    <tr>\n",
       "      <th>499</th>\n",
       "      <td>126086</td>\n",
       "      <td>129000</td>\n",
       "      <td>Gran</td>\n",
       "    </tr>\n",
       "    <tr>\n",
       "      <th>506</th>\n",
       "      <td>83426</td>\n",
       "      <td>97000</td>\n",
       "      <td>Petita</td>\n",
       "    </tr>\n",
       "    <tr>\n",
       "      <th>...</th>\n",
       "      <td>...</td>\n",
       "      <td>...</td>\n",
       "      <td>...</td>\n",
       "    </tr>\n",
       "    <tr>\n",
       "      <th>1610249</th>\n",
       "      <td>91585</td>\n",
       "      <td>84000</td>\n",
       "      <td>Petita</td>\n",
       "    </tr>\n",
       "    <tr>\n",
       "      <th>1610253</th>\n",
       "      <td>112995</td>\n",
       "      <td>97000</td>\n",
       "      <td>Gran</td>\n",
       "    </tr>\n",
       "    <tr>\n",
       "      <th>1610286</th>\n",
       "      <td>26257</td>\n",
       "      <td>116000</td>\n",
       "      <td>Petita</td>\n",
       "    </tr>\n",
       "    <tr>\n",
       "      <th>1610404</th>\n",
       "      <td>125302</td>\n",
       "      <td>115000</td>\n",
       "      <td>Gran</td>\n",
       "    </tr>\n",
       "    <tr>\n",
       "      <th>1610437</th>\n",
       "      <td>60446</td>\n",
       "      <td>120000</td>\n",
       "      <td>Petita</td>\n",
       "    </tr>\n",
       "  </tbody>\n",
       "</table>\n",
       "<p>22000 rows × 3 columns</p>\n",
       "</div>"
      ],
      "text/plain": [
       "         Company Size  max_Salary company_size_group\n",
       "23             127385      124000               Gran\n",
       "302             74181      110000             Petita\n",
       "332            105598      121000               Gran\n",
       "499            126086      129000               Gran\n",
       "506             83426       97000             Petita\n",
       "...               ...         ...                ...\n",
       "1610249         91585       84000             Petita\n",
       "1610253        112995       97000               Gran\n",
       "1610286         26257      116000             Petita\n",
       "1610404        125302      115000               Gran\n",
       "1610437         60446      120000             Petita\n",
       "\n",
       "[22000 rows x 3 columns]"
      ]
     },
     "execution_count": 90,
     "metadata": {},
     "output_type": "execute_result"
    }
   ],
   "source": [
    "# Definim llindar\n",
    "large_company_threshold = 104146\n",
    "\n",
    "# Cream una columna categòrica per definir si l'empresa o no en funció del nostre llindar\n",
    "df_filtered[\"company_size_group\"] = np.where(\n",
    "    df_filtered[\"Company Size\"] > large_company_threshold,\n",
    "    \"Gran\",\n",
    "    \"Petita\"\n",
    ")\n",
    "\n",
    "df_filtered[[\"Company Size\", \"max_Salary\", \"company_size_group\"]]"
   ]
  },
  {
   "cell_type": "code",
   "execution_count": 91,
   "id": "c42dab3a",
   "metadata": {},
   "outputs": [],
   "source": [
    "# Definim dos dataframes amb els salaris, un amb les empreses grans i un altre per a les empreses petites\n",
    "large_company = df_filtered[df_filtered['company_size_group'] == 'Gran']['max_Salary']\n",
    "small_company = df_filtered[df_filtered['company_size_group'] == 'Petita']['max_Salary']"
   ]
  },
  {
   "cell_type": "markdown",
   "id": "2f6923d4",
   "metadata": {},
   "source": [
    "Ara hem de comprovar la normalitat de les dades, ja que és una condició necessària per aplicar el Test t de Student."
   ]
  },
  {
   "cell_type": "code",
   "execution_count": 92,
   "id": "091837d3",
   "metadata": {},
   "outputs": [],
   "source": [
    "import matplotlib.pyplot as plt\n",
    "import seaborn as sns\n",
    "import statsmodels.api as sm\n",
    "from scipy import stats"
   ]
  },
  {
   "cell_type": "code",
   "execution_count": 93,
   "id": "d1a87b0e",
   "metadata": {},
   "outputs": [
    {
     "data": {
      "image/png": "[encoded data removed]",
      "text/plain": [
       "<Figure size 1400x600 with 2 Axes>"
      ]
     },
     "metadata": {},
     "output_type": "display_data"
    }
   ],
   "source": [
    "# Visualització amb Q-Q plots\n",
    "fig, axes = plt.subplots(1, 2, figsize=(14, 6))\n",
    "\n",
    "sm.qqplot(large_company, line='s', ax=axes[0])\n",
    "axes[0].set_title('Q-Q Plot per max_Salary (Companyia Gran)')\n",
    "\n",
    "sm.qqplot(small_company, line='s', ax=axes[1])\n",
    "axes[1].set_title('Q-Q Plot per max_Salary (Companyia Petita)')\n",
    "\n",
    "plt.tight_layout()\n",
    "plt.show()"
   ]
  },
  {
   "cell_type": "markdown",
   "id": "34621ed3",
   "metadata": {},
   "source": [
    "Com podem veure, gran part de les nostres dades segueixen una distribució normal, mentre que tenim valors extrems que es desvien d'aquesta tendència. Tot i això, degut al tamany del nostre dataset (22000 files) el test t d'Student és robust, ja que per a conjunt de dades més petits necessita de normalitat en les dades per garantir aquesta robustesa, però per conjunts grans de dades com el nostre el test és suficientment robust tot i no tenir una distribució normal perfecta en les dades."
   ]
  },
  {
   "cell_type": "markdown",
   "id": "539ee0b2",
   "metadata": {},
   "source": [
    "Ara executarem el Test de Levenne per saber si les variàncies a max_Salary són iguals o diferents entre les empreses grans i petites. El resultat determinarà el test t de Student que aplicarem."
   ]
  },
  {
   "cell_type": "code",
   "execution_count": 94,
   "id": "7b027b44",
   "metadata": {},
   "outputs": [
    {
     "name": "stdout",
     "output_type": "stream",
     "text": [
      "Resultats del Test de Levene per max_Salary (Software Engineer):\n",
      "  Estadístic: 0.009\n",
      "  Valor p: 0.923\n"
     ]
    }
   ],
   "source": [
    "# Executam el test de Levene\n",
    "# H0: Les variàncies són iguals (p-value > alpha)\n",
    "# H1: Les variàncies són diferents (p-value <= alpha)\n",
    "\n",
    "levene_test_result = stats.levene(large_company, small_company)\n",
    "print(f\"Resultats del Test de Levene per max_Salary (Software Engineer):\")\n",
    "print(f\"  Estadístic: {levene_test_result.statistic:.3f}\")\n",
    "print(f\"  Valor p: {levene_test_result.pvalue:.3f}\")"
   ]
  },
  {
   "cell_type": "code",
   "execution_count": 95,
   "id": "3eda45a5",
   "metadata": {},
   "outputs": [
    {
     "name": "stdout",
     "output_type": "stream",
     "text": [
      "  Com que el p-value (0.923) > alpha (0.05), no rebutgem H0.\n",
      "  Podem assumir que les variàncies són iguals.\n"
     ]
    }
   ],
   "source": [
    "# Nivell de significació definit al principi\n",
    "alpha = 0.05\n",
    "\n",
    "if levene_test_result.pvalue > alpha:\n",
    "    print(f\"  Com que el p-value ({levene_test_result.pvalue:.3f}) > alpha ({alpha}), no rebutgem H0.\")\n",
    "    print(\"  Podem assumir que les variàncies són iguals.\")\n",
    "    equal_variances = True\n",
    "else:\n",
    "    print(f\"  Com que el p-value ({levene_test_result.pvalue:.3f}) <= alpha ({alpha}), rebutgem H0.\")\n",
    "    print(\"  Les variàncies són significativament diferents.\")\n",
    "    equal_variances = False"
   ]
  },
  {
   "cell_type": "markdown",
   "id": "7844831a",
   "metadata": {},
   "source": [
    "Com que el p-value (0.923) és molt més gran que el nostre nivell de significació α (0.05), no rebutgem la hipòtesi nul·la del Test de Levene. Això significa que podem assumir que les variàncies de max_Salary són iguals entre els grups d'empreses grans i petites per a les ofertes de 'Software Engineer'. Ara que sabem que podem assumir variàncies iguals, utilitzarem el test t de Student estàndard per a mostres independents."
   ]
  },
  {
   "cell_type": "code",
   "execution_count": 96,
   "id": "4c8cf9f3",
   "metadata": {},
   "outputs": [
    {
     "name": "stdout",
     "output_type": "stream",
     "text": [
      "\n",
      "--- Resultats del Test t de Student (Unilateral) ---\n",
      "Estadístic t: -0.371\n",
      "Valor p: 0.645\n",
      "Nivell de significació (alpha): 0.05\n"
     ]
    }
   ],
   "source": [
    "# Realitzem el test t per a mostres independents, assumint variàncies iguals\n",
    "t_stat, p_value_one_tailed = stats.ttest_ind(large_company, small_company, equal_var=True, alternative='greater')\n",
    "\n",
    "print(f\"\\n--- Resultats del Test t de Student (Unilateral) ---\")\n",
    "print(f\"Estadístic t: {t_stat:.3f}\")\n",
    "print(f\"Valor p: {p_value_one_tailed:.3f}\")\n",
    "print(f\"Nivell de significació (alpha): {alpha}\")"
   ]
  },
  {
   "cell_type": "code",
   "execution_count": 97,
   "id": "81b387b9",
   "metadata": {},
   "outputs": [
    {
     "name": "stdout",
     "output_type": "stream",
     "text": [
      "\n",
      "--- Decisió del Test d'Hipòtesis ---\n",
      "Com que el p-value (0.645) > alpha (0.05), NO REBUTGEM la Hipòtesi nul·la\n"
     ]
    }
   ],
   "source": [
    "print(\"\\n--- Decisió del Test d'Hipòtesis ---\")\n",
    "if p_value_one_tailed <= alpha:\n",
    "    print(f\"Com que el p-value ({p_value_one_tailed:.3f}) <= alpha ({alpha}), REBUTGEM la Hipòtesi nul·la\")\n",
    "else:\n",
    "    print(f\"Com que el p-value ({p_value_one_tailed:.3f}) > alpha ({alpha}), NO REBUTGEM la Hipòtesi nul·la\")"
   ]
  },
  {
   "cell_type": "markdown",
   "id": "ac2a81c4",
   "metadata": {},
   "source": [
    "Com podem observar en els resultats, el p-value és major que alpha, per tant no rebutgem la hipòtesi nul·la. Això significa que no tenim evidència estadística significativa per afirmar que les companyies grans ofereixen sous majors que les companyies petites."
   ]
  }
 ],
 "metadata": {
  "kernelspec": {
   "display_name": "pr2",
   "language": "python",
   "name": "python3"
  },
  "language_info": {
   "codemirror_mode": {
    "name": "ipython",
    "version": 3
   },
   "file_extension": ".py",
   "mimetype": "text/x-python",
   "name": "python",
   "nbconvert_exporter": "python",
   "pygments_lexer": "ipython3",
   "version": "3.12.9"
  }
 },
 "nbformat": 4,
 "nbformat_minor": 5
}
